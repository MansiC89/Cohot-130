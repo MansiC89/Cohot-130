{
 "cells": [
  {
   "cell_type": "code",
   "execution_count": 1,
   "id": "b63657ce-fa4e-4b6c-83d4-16db16535f64",
   "metadata": {},
   "outputs": [
    {
     "name": "stdout",
     "output_type": "stream",
     "text": [
      "Uppercase: PYTHON IS FUN TO LEARN\n",
      "Lowercase: python is fun to learn\n",
      "Title case: Python Is Fun To Learn\n"
     ]
    }
   ],
   "source": [
    "# Store a message in a variable\n",
    "message = \"python is fun to learn\"\n",
    "\n",
    "# Print the message in different formats\n",
    "print(\"Uppercase:\", message.upper())\n",
    "print(\"Lowercase:\", message.lower())\n",
    "print(\"Title case:\", message.title())\n"
   ]
  },
  {
   "cell_type": "code",
   "execution_count": 2,
   "id": "42aaf1bf-d060-4aa3-bd00-339deb1dd6c4",
   "metadata": {},
   "outputs": [
    {
     "name": "stdout",
     "output_type": "stream",
     "text": [
      "Hello Alice, welcome to Python programming!\n"
     ]
    }
   ],
   "source": [
    "# Store a person's name in a variable\n",
    "name = \"Alice\"\n",
    "\n",
    "# Print a welcome message\n",
    "print(\"Hello \" + name + \", welcome to Python programming!\")\n"
   ]
  },
  {
   "cell_type": "code",
   "execution_count": 3,
   "id": "e72907b0-bb57-4ed2-99f0-3676fb5d1115",
   "metadata": {},
   "outputs": [
    {
     "name": "stdout",
     "output_type": "stream",
     "text": [
      "First character: M\n",
      "Last character: i\n",
      "Length of the word: 5\n"
     ]
    }
   ],
   "source": [
    "# Store the word in a variable\n",
    "word = \"Mansi\"\n",
    "\n",
    "# Print the first character\n",
    "print(\"First character:\", word[0])\n",
    "\n",
    "# Print the last character\n",
    "print(\"Last character:\", word[-1])\n",
    "\n",
    "# Print the length of the word\n",
    "print(\"Length of the word:\", len(word))\n"
   ]
  },
  {
   "cell_type": "code",
   "execution_count": 4,
   "id": "c4ac3e7f-c689-40a4-be0b-a030d021094e",
   "metadata": {},
   "outputs": [
    {
     "name": "stdout",
     "output_type": "stream",
     "text": [
      "Albert Einstein once said, \"Imagination is more important than knowledge.\"\n"
     ]
    }
   ],
   "source": [
    "# Store your favorite quote in a variable\n",
    "quote = 'Albert Einstein once said, \"Imagination is more important than knowledge.\"'\n",
    "\n",
    "# Print the quote\n",
    "print(quote)\n"
   ]
  },
  {
   "cell_type": "code",
   "execution_count": 5,
   "id": "6742e72b-2831-46a5-b766-7512aa093a3b",
   "metadata": {},
   "outputs": [
    {
     "name": "stdout",
     "output_type": "stream",
     "text": [
      "Mansi Chauhan\n"
     ]
    }
   ],
   "source": [
    "# Store two strings in different variables\n",
    "first_name = \"Mansi\"\n",
    "last_name = \"Chauhan\"\n",
    "\n",
    "# Join them with a space in between\n",
    "full_name = first_name + \" \" + last_name\n",
    "\n",
    "# Print the result\n",
    "print(full_name)\n"
   ]
  },
  {
   "cell_type": "code",
   "execution_count": 6,
   "id": "5fd47606-0eac-42d1-be3a-70b6dd4c0f8a",
   "metadata": {},
   "outputs": [
    {
     "name": "stdout",
     "output_type": "stream",
     "text": [
      "True\n"
     ]
    }
   ],
   "source": [
    "# Store a sentence in a variable\n",
    "sentence = \"I am learning Python programming.\"\n",
    "\n",
    "# Check if it contains the word \"Python\" using if-else\n",
    "if \"Python\" in sentence:\n",
    "    print(\"True\")\n",
    "else:\n",
    "    print(\"False\")\n"
   ]
  },
  {
   "cell_type": "code",
   "execution_count": 7,
   "id": "50ed3445-3650-414e-ad4e-2b68d63eb002",
   "metadata": {},
   "outputs": [
    {
     "name": "stdin",
     "output_type": "stream",
     "text": [
      "Enter your name:  Mansi\n"
     ]
    },
    {
     "name": "stdout",
     "output_type": "stream",
     "text": [
      "Hello Mansi, how are you today?\n"
     ]
    }
   ],
   "source": [
    "# Ask the user to enter their name\n",
    "name = input(\"Enter your name: \")\n",
    "\n",
    "# Print the message\n",
    "print(f\"Hello {name}, how are you today?\")\n"
   ]
  },
  {
   "cell_type": "code",
   "execution_count": 9,
   "id": "cb9fb521-6e34-4dd3-896e-2bbeed0819b5",
   "metadata": {},
   "outputs": [
    {
     "name": "stdin",
     "output_type": "stream",
     "text": [
      "Enter your age::  36\n"
     ]
    },
    {
     "name": "stdout",
     "output_type": "stream",
     "text": [
      "You are 36, years old\n"
     ]
    }
   ],
   "source": [
    "# Ask the user to enter their name\n",
    "Age = input(\"Enter your age:: \")\n",
    "\n",
    "# Print the message\n",
    "print(f\"You are {Age}, years old\")\n"
   ]
  },
  {
   "cell_type": "code",
   "execution_count": 10,
   "id": "3e176f23-ff40-4c8c-837d-79b0887622cd",
   "metadata": {},
   "outputs": [
    {
     "name": "stdin",
     "output_type": "stream",
     "text": [
      "Enter the first number:  10\n",
      "Enter the second number:  5\n"
     ]
    },
    {
     "name": "stdout",
     "output_type": "stream",
     "text": [
      "Sum: 15.0\n",
      "Difference: 5.0\n",
      "Product: 50.0\n",
      "Quotient: 2.0\n"
     ]
    }
   ],
   "source": [
    "# Ask the user to enter two numbers\n",
    "num1 = float(input(\"Enter the first number: \"))\n",
    "num2 = float(input(\"Enter the second number: \"))\n",
    "\n",
    "# Calculate sum, difference, product, and quotient\n",
    "sum_result = num1 + num2\n",
    "difference = num1 - num2\n",
    "product = num1 * num2\n",
    "\n",
    "# Handle division by zero\n",
    "if num2 != 0:\n",
    "    quotient = num1 / num2\n",
    "else:\n",
    "    quotient = \"Undefined (division by zero)\"\n",
    "\n",
    "# Print the results\n",
    "print(\"Sum:\", sum_result)\n",
    "print(\"Difference:\", difference)\n",
    "print(\"Product:\", product)\n",
    "print(\"Quotient:\", quotient)\n"
   ]
  },
  {
   "cell_type": "code",
   "execution_count": 12,
   "id": "ae7e7def-d687-4820-9719-155f2ecf6b2e",
   "metadata": {},
   "outputs": [
    {
     "name": "stdin",
     "output_type": "stream",
     "text": [
      "Enter a sentence:  My name is Mansi\n"
     ]
    },
    {
     "name": "stdout",
     "output_type": "stream",
     "text": [
      "Answer is: isnaM si eman yM\n"
     ]
    }
   ],
   "source": [
    "# Ask the user to enter a sentence\n",
    "sentence = input(\"Enter a sentence: \")\n",
    "\n",
    "# Reverse the sentence\n",
    "reversed_sentence = sentence[::-1]\n",
    "\n",
    "# Print the reversed sentence\n",
    "print(\"Answer is:\", reversed_sentence)\n"
   ]
  },
  {
   "cell_type": "code",
   "execution_count": 13,
   "id": "3ec75a7b-8416-4308-afdf-d3c2ee0b3796",
   "metadata": {},
   "outputs": [
    {
     "name": "stdin",
     "output_type": "stream",
     "text": [
      "Enter your favorite color:  Black\n"
     ]
    },
    {
     "name": "stdout",
     "output_type": "stream",
     "text": [
      "Wow! Black is a beautiful color!\n"
     ]
    }
   ],
   "source": [
    "# Ask the user for their favorite color\n",
    "color = input(\"Enter your favorite color: \")\n",
    "\n",
    "# Print the message\n",
    "print(f\"Wow! {color} is a beautiful color!\")\n"
   ]
  },
  {
   "cell_type": "code",
   "execution_count": 15,
   "id": "2e7da595-575e-4e98-8fb4-0b7fb64776ad",
   "metadata": {},
   "outputs": [
    {
     "name": "stdin",
     "output_type": "stream",
     "text": [
      "Enter a number:  50.5\n"
     ]
    },
    {
     "name": "stdout",
     "output_type": "stream",
     "text": [
      "True\n"
     ]
    }
   ],
   "source": [
    "# Ask the user to enter a number\n",
    "num = float(input(\"Enter a number: \"))\n",
    "\n",
    "# Check if it is greater than 50\n",
    "if num > 50:\n",
    "    print(True)\n",
    "else:\n",
    "    print(False)\n"
   ]
  },
  {
   "cell_type": "code",
   "execution_count": 18,
   "id": "5e383927-672c-4695-bf2e-b36e7cbb7d5e",
   "metadata": {},
   "outputs": [
    {
     "name": "stdin",
     "output_type": "stream",
     "text": [
      "Enter a number:  3\n"
     ]
    },
    {
     "name": "stdout",
     "output_type": "stream",
     "text": [
      "It is Odd\n"
     ]
    }
   ],
   "source": [
    "# Ask the user to enter a number\n",
    "num = int(input(\"Enter a number: \"))\n",
    "\n",
    "# Check if the number is even\n",
    "if num % 2 == 0:\n",
    "    print(\"It is even\")\n",
    "else:\n",
    "    print(\"It is Odd\")\n"
   ]
  },
  {
   "cell_type": "code",
   "execution_count": 20,
   "id": "d2e87e87-b466-46ea-9cdd-98a9f3bddb36",
   "metadata": {},
   "outputs": [
    {
     "name": "stdin",
     "output_type": "stream",
     "text": [
      "Enter your age:  25\n"
     ]
    },
    {
     "name": "stdout",
     "output_type": "stream",
     "text": [
      "Eligible to vote\n"
     ]
    }
   ],
   "source": [
    "# Ask the user to enter their age\n",
    "age = int(input(\"Enter your age: \"))\n",
    "\n",
    "# Check if the user is eligible to vote\n",
    "if age >= 18:\n",
    "    print(\"Eligible to vote\")\n",
    "else:\n",
    "    print(\"Not eligible to vote\")\n"
   ]
  },
  {
   "cell_type": "code",
   "execution_count": 21,
   "id": "24cfaf72-7abf-4e3d-a791-9783867444a9",
   "metadata": {},
   "outputs": [
    {
     "name": "stdin",
     "output_type": "stream",
     "text": [
      "Enter the first number:  19\n",
      "Enter the second number:  5\n"
     ]
    },
    {
     "name": "stdout",
     "output_type": "stream",
     "text": [
      "True\n"
     ]
    }
   ],
   "source": [
    "# Ask the user to enter two numbers\n",
    "num1 = float(input(\"Enter the first number: \"))\n",
    "num2 = float(input(\"Enter the second number: \"))\n",
    "\n",
    "# Check if the first number is greater than the second\n",
    "if num1 > num2:\n",
    "    print(True)\n",
    "else:\n",
    "    print(False)\n"
   ]
  },
  {
   "cell_type": "code",
   "execution_count": 24,
   "id": "d9c4e3d7-99ee-4f73-85fc-da9f1cd3eba1",
   "metadata": {},
   "outputs": [
    {
     "name": "stdin",
     "output_type": "stream",
     "text": [
      "Enter any Word: Samarth\n"
     ]
    },
    {
     "name": "stdout",
     "output_type": "stream",
     "text": [
      "True\n"
     ]
    }
   ],
   "source": [
    "# Ask the user to enter a word\n",
    "word = input(\"Enter any Word:\")\n",
    "\n",
    "# Check if the length of the word is more than 5\n",
    "if len(word)>5:\n",
    "    print(True)\n",
    "else:\n",
    "    print(False)"
   ]
  },
  {
   "cell_type": "code",
   "execution_count": 26,
   "id": "e70cacd8-f5b4-4bd2-a5df-fad6333c1fa5",
   "metadata": {},
   "outputs": [
    {
     "name": "stdin",
     "output_type": "stream",
     "text": [
      "Enter your password:  abcfdfg#123\n"
     ]
    },
    {
     "name": "stdout",
     "output_type": "stream",
     "text": [
      "True\n"
     ]
    }
   ],
   "source": [
    "# Ask the user to enter a password\n",
    "password = input(\"Enter your password: \")\n",
    "\n",
    "# Check the password conditions\n",
    "if len(password) >= 8 and (\"@\" in password or \"#\" in password):\n",
    "    print(True)\n",
    "else:\n",
    "    print(False)\n"
   ]
  },
  {
   "cell_type": "code",
   "execution_count": null,
   "id": "dc3ce618-bcbc-4015-a995-6753652b25f2",
   "metadata": {},
   "outputs": [],
   "source": []
  }
 ],
 "metadata": {
  "kernelspec": {
   "display_name": "Python 3 (ipykernel)",
   "language": "python",
   "name": "python3"
  },
  "language_info": {
   "codemirror_mode": {
    "name": "ipython",
    "version": 3
   },
   "file_extension": ".py",
   "mimetype": "text/x-python",
   "name": "python",
   "nbconvert_exporter": "python",
   "pygments_lexer": "ipython3",
   "version": "3.13.5"
  }
 },
 "nbformat": 4,
 "nbformat_minor": 5
}

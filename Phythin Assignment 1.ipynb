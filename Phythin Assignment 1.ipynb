{
 "cells": [
  {
   "cell_type": "code",
   "execution_count": 1,
   "id": "b8c75411-10f9-4157-b50b-eb0105bac4ce",
   "metadata": {},
   "outputs": [
    {
     "name": "stdout",
     "output_type": "stream",
     "text": [
      "Hello, welcome to Python programming!\n"
     ]
    }
   ],
   "source": [
    "message = \"Hello, welcome to Python programming!\"\n",
    "print (message)"
   ]
  },
  {
   "cell_type": "code",
   "execution_count": 2,
   "id": "ce23ac65-870a-48d9-9f11-97b40e45c372",
   "metadata": {},
   "outputs": [
    {
     "name": "stdout",
     "output_type": "stream",
     "text": [
      "Hello, Python learner!\n"
     ]
    }
   ],
   "source": [
    "message = \"Hello, Python learner!\"\n",
    "print(message)"
   ]
  },
  {
   "cell_type": "code",
   "execution_count": 3,
   "id": "f9f1c61f-74f9-48b0-9296-47edbe0c138f",
   "metadata": {},
   "outputs": [
    {
     "name": "stdout",
     "output_type": "stream",
     "text": [
      "Hello Mansi, would you like to learn some Python today?\n"
     ]
    }
   ],
   "source": [
    "name = \"Mansi\"\n",
    "\n",
    "# Print a personalized message\n",
    "print(\"Hello \" + name + \", would you like to learn some Python today?\")"
   ]
  },
  {
   "cell_type": "code",
   "execution_count": 4,
   "id": "826da4de-3352-4b25-9a56-bc2959202dfb",
   "metadata": {},
   "outputs": [
    {
     "name": "stdout",
     "output_type": "stream",
     "text": [
      "Mahatma Gandhi once said, \"Be the change that you wish to see in the world.\"\n"
     ]
    }
   ],
   "source": [
    "author = \"Mahatma Gandhi\"\n",
    "quote = \"Be the change that you wish to see in the world.\"\n",
    "print(f'{author} once said, \"{quote}\"')"
   ]
  },
  {
   "cell_type": "code",
   "execution_count": 5,
   "id": "10b51193-99c7-4337-aac8-8561d3d6d19e",
   "metadata": {},
   "outputs": [
    {
     "name": "stdout",
     "output_type": "stream",
     "text": [
      "{author} once said, \"{quote}\"\n"
     ]
    }
   ],
   "source": [
    "author = \"Mahatma Gandhi\"\n",
    "quote = \"Be the change that you wish to see in the world.\"\n",
    "print('{author} once said, \"{quote}\"')"
   ]
  },
  {
   "cell_type": "code",
   "execution_count": 6,
   "id": "cbe5c9ed-5bf3-4c29-a05d-7e8c6c83c71a",
   "metadata": {},
   "outputs": [
    {
     "name": "stdout",
     "output_type": "stream",
     "text": [
      "Mahatma Gandhi once said, \"Be the change that you wish to see in the world.\"\n"
     ]
    }
   ],
   "source": [
    "author = \"Mahatma Gandhi\"\n",
    "quote = \"Be the change that you wish to see in the world.\"\n",
    "print(f'{author} once said, \"{quote}\"')\n"
   ]
  },
  {
   "cell_type": "code",
   "execution_count": 9,
   "id": "2382933e-890f-4146-931d-0bf454f87e53",
   "metadata": {},
   "outputs": [
    {
     "name": "stdout",
     "output_type": "stream",
     "text": [
      "Mahatma Gandhi once said, \"Be the change that you wish to see in the world.\" \n"
     ]
    }
   ],
   "source": [
    "famous_person = \"Mahatma Gandhi\"\n",
    "quate = \"Be the change that you wish to see in the world.\"\n",
    "message = f'{famous_person} once said, \"{quote}\" '\n",
    "print (message)\n"
   ]
  },
  {
   "cell_type": "code",
   "execution_count": 12,
   "id": "dbcf4556-be61-4154-934e-9bc8b0c0d9ae",
   "metadata": {},
   "outputs": [
    {
     "name": "stdout",
     "output_type": "stream",
     "text": [
      "8\n",
      "8\n",
      "8\n",
      "8\n"
     ]
    }
   ],
   "source": [
    "# Addition\n",
    "print(5 + 3)\n",
    "\n",
    "# Subtraction\n",
    "print(10 - 2)\n",
    "\n",
    "# Multiplication\n",
    "print(4 * 2)\n",
    "\n",
    "\n",
    "# Division\n",
    "print(16// 2)\n"
   ]
  },
  {
   "cell_type": "code",
   "execution_count": 13,
   "id": "7c588fb2-c37f-4fab-92f7-a67b0a47464b",
   "metadata": {},
   "outputs": [
    {
     "name": "stdout",
     "output_type": "stream",
     "text": [
      "My favourite number is 1.\n"
     ]
    }
   ],
   "source": [
    "# Store your favourite number\n",
    "favourite_number = 1\n",
    "\n",
    "# Create a message using the variable\n",
    "message = f\"My favourite number is {favourite_number}.\"\n",
    "\n",
    "# Print the message\n",
    "print(message)\n"
   ]
  },
  {
   "cell_type": "code",
   "execution_count": 14,
   "id": "939aba40-d858-4de7-b534-fdaea7a45861",
   "metadata": {},
   "outputs": [
    {
     "name": "stdout",
     "output_type": "stream",
     "text": [
      "Mahatma Gandhi once said, \"Be the change that you wish to see in the world.\"\n"
     ]
    }
   ],
   "source": [
    "# Author: Mansi Chauhan\n",
    "# Date: 17-09-2025\n",
    "# This program prints a famous quote with the author’s name.\n",
    "\n",
    "# Store the famous person's name\n",
    "famous_person = \"Mahatma Gandhi\"\n",
    "\n",
    "# Store the quote\n",
    "quote = \"Be the change that you wish to see in the world.\"\n",
    "\n",
    "# Compose the full message\n",
    "message = f'{famous_person} once said, \"{quote}\"'\n",
    "\n",
    "# Print the message\n",
    "print(message)\n"
   ]
  },
  {
   "cell_type": "code",
   "execution_count": 15,
   "id": "12c044c3-9c8f-453f-962b-d3e0993bf00a",
   "metadata": {},
   "outputs": [
    {
     "name": "stdout",
     "output_type": "stream",
     "text": [
      "Rima\n",
      "Kartik\n",
      "Tejal\n",
      "Vaishali\n"
     ]
    }
   ],
   "source": [
    "# Store the names of friends in a list\n",
    "names = [\"Rima\", \"Kartik\", \"Tejal\", \"Vaishali\"]\n",
    "\n",
    "# Print each name by accessing the list elements one by one\n",
    "print(names[0])  # First name\n",
    "print(names[1])  # Second name\n",
    "print(names[2])  # Third name\n",
    "print(names[3])  # Fourth name\n"
   ]
  },
  {
   "cell_type": "code",
   "execution_count": 17,
   "id": "4e0b6f6f-eaae-4bfe-af39-4f0dba32bb00",
   "metadata": {},
   "outputs": [
    {
     "name": "stdout",
     "output_type": "stream",
     "text": [
      "Hello Rima, I hope you are doing well!\n",
      "Hello Kartik, I hope you are doing well!\n",
      "Hello Tejal, I hope you are doing well!\n",
      "Hello Vaishali, I hope you are doing well!\n"
     ]
    }
   ],
   "source": [
    "# Store the names of friends in a list\n",
    "names = [\"Rima\", \"Kartik\", \"Tejal\", \"Vaishali\"]\n",
    "\n",
    "# Print a personalized message for each friend\n",
    "print(f\"Hello {names[0]}, I hope you are doing well!\")\n",
    "print(f\"Hello {names[1]}, I hope you are doing well!\")\n",
    "print(f\"Hello {names[2]}, I hope you are doing well!\")\n",
    "print(f\"Hello {names[3]}, I hope you are doing well!\")\n"
   ]
  },
  {
   "cell_type": "code",
   "execution_count": 23,
   "id": "24c47715-9759-4010-9496-87d84bc82f09",
   "metadata": {},
   "outputs": [
    {
     "name": "stdout",
     "output_type": "stream",
     "text": [
      "I would like to own a Honda motorcycle.\n",
      "I would like to own a Tesla car.\n",
      "I would like to own a Royal Enfield bike.\n",
      "I would like to own a BMW car.\n",
      "I would like to own a ['Honda motorcycle', 'Tesla car', 'Royal Enfield bike', 'BMW car'].\n"
     ]
    }
   ],
   "source": [
    "# Store favourite modes of transportation in a list\n",
    "vehicles = [\"Honda motorcycle\", \"Tesla car\", \"Royal Enfield bike\", \"BMW car\"]\n",
    "\n",
    "# Print personalized statements about each vehicle\n",
    "print(f\"I would like to own a {vehicles[0]}.\")\n",
    "print(f\"I would like to own a {vehicles[1]}.\")\n",
    "print(f\"I would like to own a {vehicles[2]}.\")\n",
    "print(f\"I would like to own a {vehicles[3]}.\")\n",
    "\n",
    "#for vehicle in vehicles:\n",
    "print(f\"I would like to own a {vehicles}.\")\n",
    "\n",
    "\n"
   ]
  },
  {
   "cell_type": "code",
   "execution_count": null,
   "id": "d1b59b1c-127c-44fb-820e-56a0b4895fa6",
   "metadata": {},
   "outputs": [],
   "source": []
  },
  {
   "cell_type": "code",
   "execution_count": null,
   "id": "95c6a048-1713-4c8f-b78a-2c79af957415",
   "metadata": {},
   "outputs": [],
   "source": []
  }
 ],
 "metadata": {
  "kernelspec": {
   "display_name": "Python 3 (ipykernel)",
   "language": "python",
   "name": "python3"
  },
  "language_info": {
   "codemirror_mode": {
    "name": "ipython",
    "version": 3
   },
   "file_extension": ".py",
   "mimetype": "text/x-python",
   "name": "python",
   "nbconvert_exporter": "python",
   "pygments_lexer": "ipython3",
   "version": "3.13.5"
  }
 },
 "nbformat": 4,
 "nbformat_minor": 5
}
